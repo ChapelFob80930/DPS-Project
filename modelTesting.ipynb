{
 "cells": [
  {
   "cell_type": "code",
   "execution_count": 2,
   "metadata": {},
   "outputs": [
    {
     "name": "stdout",
     "output_type": "stream",
     "text": [
      "Extracted URL: https://www.meetup.com/technexus-community/events/306934878/\n"
     ]
    },
    {
     "data": {
      "text/plain": [
       "'https://www.meetup.com/technexus-community/events/306934878/'"
      ]
     },
     "execution_count": 2,
     "metadata": {},
     "output_type": "execute_result"
    }
   ],
   "source": [
    "import cv2\n",
    "from pyzbar.pyzbar import decode\n",
    "\n",
    "def scan_qr_code(image_path):\n",
    "    image = cv2.imread(image_path)\n",
    "    qr_codes = decode(image)\n",
    "    \n",
    "    for qr in qr_codes:\n",
    "        url = qr.data.decode('utf-8')\n",
    "        print(\"Extracted URL:\", url)\n",
    "        return url\n",
    "\n",
    "    return None\n",
    "\n",
    "# Example usage\n",
    "scan_qr_code(\"testimage.jpg\")\n"
   ]
  },
  {
   "cell_type": "code",
   "execution_count": null,
   "metadata": {},
   "outputs": [],
   "source": []
  }
 ],
 "metadata": {
  "kernelspec": {
   "display_name": ".venv",
   "language": "python",
   "name": "python3"
  },
  "language_info": {
   "codemirror_mode": {
    "name": "ipython",
    "version": 3
   },
   "file_extension": ".py",
   "mimetype": "text/x-python",
   "name": "python",
   "nbconvert_exporter": "python",
   "pygments_lexer": "ipython3",
   "version": "3.10.0"
  }
 },
 "nbformat": 4,
 "nbformat_minor": 2
}
